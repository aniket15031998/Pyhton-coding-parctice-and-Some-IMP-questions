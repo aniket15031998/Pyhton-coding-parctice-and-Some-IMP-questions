{
  "cells": [
    {
      "cell_type": "markdown",
      "metadata": {
        "id": "view-in-github",
        "colab_type": "text"
      },
      "source": [
        "<a href=\"https://colab.research.google.com/github/aniket15031998/Pyhton-coding-parctice-and-Some-IMP-questions/blob/main/Pyhton_coding_parctice_and_Some_IMP_questions.ipynb\" target=\"_parent\"><img src=\"https://colab.research.google.com/assets/colab-badge.svg\" alt=\"Open In Colab\"/></a>"
      ]
    },
    {
      "cell_type": "markdown",
      "source": [
        "**SOME BASIC IMP CODING QUESTIONS**"
      ],
      "metadata": {
        "id": "rHkKBKtOwBwo"
      }
    },
    {
      "cell_type": "code",
      "execution_count": null,
      "metadata": {
        "colab": {
          "base_uri": "https://localhost:8080/",
          "height": 54
        },
        "id": "kc0EAyrykLXI",
        "outputId": "cc3b4bfa-5e8d-4531-a33b-1d94dd031474"
      },
      "outputs": [
        {
          "name": "stdout",
          "output_type": "stream",
          "text": [
            "A man, a plan, a canal, Panama!\n"
          ]
        },
        {
          "data": {
            "application/vnd.google.colaboratory.intrinsic+json": {
              "type": "string"
            },
            "text/plain": [
              "'Palindrome'"
            ]
          },
          "execution_count": 29,
          "metadata": {},
          "output_type": "execute_result"
        }
      ],
      "source": [
        "def check_palindrome(string):\n",
        "  cleaned_string=\"\".join(char.lower() for char in string if char.isalnum())\n",
        "  if cleaned_string==cleaned_string[::-1]:\n",
        "    return 'Palindrome'\n",
        "  else:\n",
        "    return 'Not Plaindrome'\n",
        "\n",
        "input_string=str(input())\n",
        "check_palindrome(input_string)"
      ]
    },
    {
      "cell_type": "code",
      "execution_count": null,
      "metadata": {
        "colab": {
          "base_uri": "https://localhost:8080/"
        },
        "id": "880YDW2wukCa",
        "outputId": "ff83990f-6ff0-41ba-f002-cefd311ba34d"
      },
      "outputs": [
        {
          "name": "stdout",
          "output_type": "stream",
          "text": [
            "Hello, World! This is a sample sentence.\n"
          ]
        },
        {
          "data": {
            "text/plain": [
              "{'H': 1,\n",
              " 'e': 5,\n",
              " 'l': 4,\n",
              " 'o': 2,\n",
              " ',': 1,\n",
              " ' ': 6,\n",
              " 'W': 1,\n",
              " 'r': 1,\n",
              " 'd': 1,\n",
              " '!': 1,\n",
              " 'T': 1,\n",
              " 'h': 1,\n",
              " 'i': 2,\n",
              " 's': 4,\n",
              " 'a': 2,\n",
              " 'm': 1,\n",
              " 'p': 1,\n",
              " 'n': 2,\n",
              " 't': 1,\n",
              " 'c': 1,\n",
              " '.': 1}"
            ]
          },
          "execution_count": 69,
          "metadata": {},
          "output_type": "execute_result"
        }
      ],
      "source": [
        "def count_character(string):\n",
        "  char_count={}\n",
        "  for char in string:\n",
        "    if char in char_count:\n",
        "      char_count[char]+=1\n",
        "    else:\n",
        "      char_count[char]=1\n",
        "\n",
        "  return char_count\n",
        "\n",
        "string=str(input())\n",
        "count_character(string)"
      ]
    },
    {
      "cell_type": "code",
      "execution_count": null,
      "metadata": {
        "colab": {
          "base_uri": "https://localhost:8080/",
          "height": 54
        },
        "id": "TDBevzSP1w2T",
        "outputId": "35ef5a3a-3680-4c99-aa79-7b28fce6cdeb"
      },
      "outputs": [
        {
          "name": "stdout",
          "output_type": "stream",
          "text": [
            "Hello, World! This is a sample sentence.\n"
          ]
        },
        {
          "data": {
            "application/vnd.google.colaboratory.intrinsic+json": {
              "type": "string"
            },
            "text/plain": [
              "'sentence. sample a is This World! Hello,'"
            ]
          },
          "execution_count": 58,
          "metadata": {},
          "output_type": "execute_result"
        }
      ],
      "source": [
        "def reverse_words(sentence):\n",
        "  words=sentence.split()\n",
        "  reverse_words=words[::-1]\n",
        "  new_sentence=\" \".join(reverse_words)\n",
        "  return new_sentence\n",
        "\n",
        "sentence=str(input())\n",
        "reverse_words(sentence)"
      ]
    },
    {
      "cell_type": "code",
      "execution_count": null,
      "metadata": {
        "colab": {
          "base_uri": "https://localhost:8080/",
          "height": 54
        },
        "id": "G63WnMyn5kNV",
        "outputId": "5040b0e8-7ede-42d5-af61-0830818495d4"
      },
      "outputs": [
        {
          "name": "stdout",
          "output_type": "stream",
          "text": [
            "Hello, World! This is a sample sentence.\n"
          ]
        },
        {
          "data": {
            "application/vnd.google.colaboratory.intrinsic+json": {
              "type": "string"
            },
            "text/plain": [
              "'Hll, Wrld! Ths s  smpl sntnc.'"
            ]
          },
          "execution_count": 68,
          "metadata": {},
          "output_type": "execute_result"
        }
      ],
      "source": [
        "def remove_vowels(sentence):\n",
        "  vowels=\"aeiouAEIOU\"\n",
        "  new_sentence=\"\".join(char for char in sentence if char not in vowels)\n",
        "  return new_sentence\n",
        "\n",
        "sentence=str(input())\n",
        "remove_vowels(sentence)"
      ]
    },
    {
      "cell_type": "code",
      "execution_count": null,
      "metadata": {
        "colab": {
          "base_uri": "https://localhost:8080/",
          "height": 54
        },
        "id": "y8p5cA_-8Kxp",
        "outputId": "db8b2e13-3d76-4070-da13-9551958257ec"
      },
      "outputs": [
        {
          "name": "stdout",
          "output_type": "stream",
          "text": [
            "Hello, World! This is a sample sentence.\n"
          ]
        },
        {
          "data": {
            "application/vnd.google.colaboratory.intrinsic+json": {
              "type": "string"
            },
            "text/plain": [
              "'Hello, World! This Is A Sample Sentence.'"
            ]
          },
          "execution_count": 83,
          "metadata": {},
          "output_type": "execute_result"
        }
      ],
      "source": [
        "def capital_first_letter(sentence):\n",
        "  words=sentence.split(\" \")\n",
        "  new_sentence=\" \".join(word.title() for word in words)\n",
        "  return new_sentence\n",
        "\n",
        "sentence=str(input())\n",
        "capital_first_letter(sentence)"
      ]
    },
    {
      "cell_type": "code",
      "execution_count": null,
      "metadata": {
        "colab": {
          "base_uri": "https://localhost:8080/",
          "height": 72
        },
        "id": "rRLtbERn9BOf",
        "outputId": "f404ad6e-5e55-476d-9c38-92b5713a2fc3"
      },
      "outputs": [
        {
          "name": "stdout",
          "output_type": "stream",
          "text": [
            "listen\n",
            "silent\n"
          ]
        },
        {
          "data": {
            "application/vnd.google.colaboratory.intrinsic+json": {
              "type": "string"
            },
            "text/plain": [
              "'Anagram'"
            ]
          },
          "execution_count": 79,
          "metadata": {},
          "output_type": "execute_result"
        }
      ],
      "source": [
        "def check_anagram(string1,string2):\n",
        "  string1=string1.replace(\" \",\"\").lower()\n",
        "  string2=string2.replace(\" \",\"\").lower()\n",
        "\n",
        "  for i,j in zip(string1,string2):\n",
        "    if i not in string2 and j not in string2:\n",
        "      return \"Not Anagram\"\n",
        "    else:\n",
        "      return \"Anagram\"\n",
        "string1=str(input())\n",
        "string2=str(input())\n",
        "\n",
        "check_anagram(string1,string2)"
      ]
    },
    {
      "cell_type": "code",
      "execution_count": null,
      "metadata": {
        "colab": {
          "base_uri": "https://localhost:8080/",
          "height": 72
        },
        "id": "lVk8mQz1BOcg",
        "outputId": "b0a60063-5af5-49bf-fdf9-bc9ec2803912"
      },
      "outputs": [
        {
          "name": "stdout",
          "output_type": "stream",
          "text": [
            "listen\n",
            "silent\n"
          ]
        },
        {
          "data": {
            "application/vnd.google.colaboratory.intrinsic+json": {
              "type": "string"
            },
            "text/plain": [
              "'Anagram'"
            ]
          },
          "execution_count": 82,
          "metadata": {},
          "output_type": "execute_result"
        }
      ],
      "source": [
        "def check_anagram(string1,string2):\n",
        "  string1=string1.replace(\" \",\"\").lower()\n",
        "  string2=string2.replace(\" \",\"\").lower()\n",
        "\n",
        "  if sorted(string1)==sorted(string2):\n",
        "    return \"Anagram\"\n",
        "  else:\n",
        "    return \"Not Anagram\"\n",
        "\n",
        "string1=str(input())\n",
        "string2=str(input())\n",
        "\n",
        "check_anagram(string1,string2)"
      ]
    },
    {
      "cell_type": "code",
      "source": [
        "#Implement a program to remove duplicates from a list.\n",
        "def remove_duplicates(lst):\n",
        "  char_cnt={}\n",
        "  for i in range(len(lst)):\n",
        "    if lst[i] in char_cnt:\n",
        "      char_cnt[lst[i]]+=1\n",
        "    else:\n",
        "      char_cnt[lst[i]]=1\n",
        "  return list(char_cnt.keys())\n",
        "\n",
        "lst=eval(input())\n",
        "remove_duplicates(lst)"
      ],
      "metadata": {
        "colab": {
          "base_uri": "https://localhost:8080/"
        },
        "id": "XUeQeJ5xy0X5",
        "outputId": "5454c2d7-33da-4be4-a35c-dcee43f6beb6"
      },
      "execution_count": null,
      "outputs": [
        {
          "name": "stdout",
          "output_type": "stream",
          "text": [
            "[1,2,3,4,5,1,2,3]\n"
          ]
        },
        {
          "output_type": "execute_result",
          "data": {
            "text/plain": [
              "[1, 2, 3, 4, 5]"
            ]
          },
          "metadata": {},
          "execution_count": 35
        }
      ]
    },
    {
      "cell_type": "code",
      "source": [
        "#Implement a program to remove duplicates from a list.\n",
        "def remove_duplicates(lst):\n",
        "  return list(set(lst))\n",
        "\n",
        "lst=eval(input())\n",
        "remove_duplicates(lst)"
      ],
      "metadata": {
        "colab": {
          "base_uri": "https://localhost:8080/"
        },
        "id": "8AFh7qBPrM7v",
        "outputId": "3f16413d-8e69-4037-d9c7-c480c7ae7e7b"
      },
      "execution_count": null,
      "outputs": [
        {
          "name": "stdout",
          "output_type": "stream",
          "text": [
            "[1,2,3,4,5,1,2,3]\n"
          ]
        },
        {
          "output_type": "execute_result",
          "data": {
            "text/plain": [
              "[1, 2, 3, 4, 5]"
            ]
          },
          "metadata": {},
          "execution_count": 8
        }
      ]
    },
    {
      "cell_type": "code",
      "source": [
        "#Create a function that returns the second-largest element in a list.\n",
        "def second_largest(lst):\n",
        "  char_cnt={}\n",
        "  for i in range(len(lst)):\n",
        "    if lst[i] in char_cnt:\n",
        "      char_cnt[lst[i]]+=1\n",
        "    else:\n",
        "      char_cnt[lst[i]]=1\n",
        "\n",
        "  unique_list=list(char_cnt.keys())\n",
        "  unique_list.sort()\n",
        "  return unique_list[-2]\n",
        "\n",
        "lst=eval(input())\n",
        "second_largest(lst)"
      ],
      "metadata": {
        "colab": {
          "base_uri": "https://localhost:8080/"
        },
        "id": "qre1tite268-",
        "outputId": "c4bb8a79-3a05-486a-db81-86e0aed33791"
      },
      "execution_count": null,
      "outputs": [
        {
          "name": "stdout",
          "output_type": "stream",
          "text": [
            "[1,2,3,4,5,1,2,3]\n"
          ]
        },
        {
          "output_type": "execute_result",
          "data": {
            "text/plain": [
              "4"
            ]
          },
          "metadata": {},
          "execution_count": 36
        }
      ]
    },
    {
      "cell_type": "code",
      "source": [
        "#Write a function to find the sum of all elements in a list.\n",
        "def sum(lst):\n",
        "  sum=0\n",
        "  for i in lst:\n",
        "    sum+=i\n",
        "\n",
        "  return sum\n",
        "\n",
        "lst=eval(input())\n",
        "sum(lst)"
      ],
      "metadata": {
        "colab": {
          "base_uri": "https://localhost:8080/"
        },
        "id": "C30bwd3L4vsj",
        "outputId": "7613b2fa-4a2e-423e-a11d-ff6d8ab41575"
      },
      "execution_count": null,
      "outputs": [
        {
          "name": "stdout",
          "output_type": "stream",
          "text": [
            "[1,2,3,4,5,1,2,3]\n"
          ]
        },
        {
          "output_type": "execute_result",
          "data": {
            "text/plain": [
              "21"
            ]
          },
          "metadata": {},
          "execution_count": 37
        }
      ]
    },
    {
      "cell_type": "code",
      "source": [
        "#Write a function to find the sum of all elements in a list.\n",
        "def product(lst):\n",
        "  product=1\n",
        "  for i in lst:\n",
        "    product=product*i\n",
        "\n",
        "  return product\n",
        "\n",
        "lst=eval(input())\n",
        "product(lst)"
      ],
      "metadata": {
        "colab": {
          "base_uri": "https://localhost:8080/"
        },
        "id": "IoBuW5fmLk7w",
        "outputId": "529169ae-08b8-40c6-a49f-10c6d0fa03f1"
      },
      "execution_count": null,
      "outputs": [
        {
          "name": "stdout",
          "output_type": "stream",
          "text": [
            "[1,2,3,4,5,1,2,3]\n"
          ]
        },
        {
          "output_type": "execute_result",
          "data": {
            "text/plain": [
              "720"
            ]
          },
          "metadata": {},
          "execution_count": 69
        }
      ]
    },
    {
      "cell_type": "code",
      "source": [
        "#Create a function that returns the elements that appear more than once in a list.\n",
        "def second_largest(lst):\n",
        "  char_cnt={}\n",
        "  for i in range(len(lst)):\n",
        "    if lst[i] in char_cnt:\n",
        "      char_cnt[lst[i]]+=1\n",
        "    else:\n",
        "      char_cnt[lst[i]]=1\n",
        "\n",
        "  ans=[char for char,cnt in char_cnt.items() if cnt>1]\n",
        "  return ans\n",
        "\n",
        "lst=eval(input())\n",
        "second_largest(lst)"
      ],
      "metadata": {
        "colab": {
          "base_uri": "https://localhost:8080/"
        },
        "id": "ZU9-tLIF55dx",
        "outputId": "82067323-06ce-4e80-f568-416bfc6b7ccf"
      },
      "execution_count": null,
      "outputs": [
        {
          "name": "stdout",
          "output_type": "stream",
          "text": [
            "[1,2,3,4,5,1,2,3]\n"
          ]
        },
        {
          "output_type": "execute_result",
          "data": {
            "text/plain": [
              "[1, 2, 3]"
            ]
          },
          "metadata": {},
          "execution_count": 38
        }
      ]
    },
    {
      "cell_type": "code",
      "source": [
        "#Create a function that returns the elements that appear only once in a list.\n",
        "def second_largest(lst):\n",
        "  char_cnt={}\n",
        "  for i in range(len(lst)):\n",
        "    if lst[i] in char_cnt:\n",
        "      char_cnt[lst[i]]+=1\n",
        "    else:\n",
        "      char_cnt[lst[i]]=1\n",
        "\n",
        "  ans=[char for char,cnt in char_cnt.items() if cnt==1]\n",
        "  return ans\n",
        "\n",
        "lst=eval(input())\n",
        "second_largest(lst)"
      ],
      "metadata": {
        "colab": {
          "base_uri": "https://localhost:8080/"
        },
        "id": "RwJc-57zJCge",
        "outputId": "4a8d3c5d-b5b1-479e-a2eb-60f7cc902bb8"
      },
      "execution_count": null,
      "outputs": [
        {
          "name": "stdout",
          "output_type": "stream",
          "text": [
            "[1,2,3,4,5,1,2,3]\n"
          ]
        },
        {
          "output_type": "execute_result",
          "data": {
            "text/plain": [
              "[4, 5]"
            ]
          },
          "metadata": {},
          "execution_count": 64
        }
      ]
    },
    {
      "cell_type": "code",
      "source": [
        "#Write a program to merge two sorted lists into a new sorted list.\n",
        "def merge_lists(list1,list2):\n",
        "  list1.sort()\n",
        "  list2.sort()\n",
        "  new_list=list1+list2\n",
        "  new_list.sort()\n",
        "  return new_list\n",
        "\n",
        "list1=eval(input())\n",
        "list2=eval(input())\n",
        "merge_lists(list1,list2)"
      ],
      "metadata": {
        "colab": {
          "base_uri": "https://localhost:8080/"
        },
        "id": "sQryZiaC8MWk",
        "outputId": "87a4f509-5bd8-45b6-afd2-660d622b37bb"
      },
      "execution_count": null,
      "outputs": [
        {
          "name": "stdout",
          "output_type": "stream",
          "text": [
            "[1,2,3,4,5,1,2,3]\n",
            "[1, 2, 3]\n"
          ]
        },
        {
          "output_type": "execute_result",
          "data": {
            "text/plain": [
              "[1, 1, 1, 2, 2, 2, 3, 3, 3, 4, 5]"
            ]
          },
          "metadata": {},
          "execution_count": 52
        }
      ]
    },
    {
      "cell_type": "code",
      "source": [
        "#Implement a function to check if a list is sorted in ascending order.\n",
        "def check_order(lst):\n",
        "  i=0\n",
        "  while i < len(lst)-1:\n",
        "    if lst[i]>lst[i+1]:\n",
        "      return \"not ascending\"\n",
        "      break\n",
        "    i+=1\n",
        "  else:\n",
        "    return \"ascending\"\n",
        "\n",
        "lst=eval(input())\n",
        "check_order(lst)"
      ],
      "metadata": {
        "colab": {
          "base_uri": "https://localhost:8080/",
          "height": 54
        },
        "id": "iBVcfuh6DSMj",
        "outputId": "88b4f555-f355-4b20-af21-95b97b8b50ce"
      },
      "execution_count": null,
      "outputs": [
        {
          "name": "stdout",
          "output_type": "stream",
          "text": [
            "[1,2,3,4,5,1,2,3]\n"
          ]
        },
        {
          "output_type": "execute_result",
          "data": {
            "text/plain": [
              "'not ascending'"
            ],
            "application/vnd.google.colaboratory.intrinsic+json": {
              "type": "string"
            }
          },
          "metadata": {},
          "execution_count": 59
        }
      ]
    },
    {
      "cell_type": "code",
      "source": [
        "def add_sub_elements(list1,list2):\n",
        "  new_list=[]\n",
        "  for i,j in zip(list1,list2):\n",
        "    if i>j:\n",
        "      new_list.append(tuple((i+j,i-j)))\n",
        "    else:\n",
        "      new_list.append(tuple((i+j,-(i-j))))\n",
        "  return new_list\n",
        "\n",
        "list1=[1,2,3,4,5,6]\n",
        "list2=[6,7,8,9,10,0]\n",
        "add_sub_elements(list1,list2)"
      ],
      "metadata": {
        "colab": {
          "base_uri": "https://localhost:8080/"
        },
        "id": "6WN1XVi1FwPs",
        "outputId": "93a16119-5146-4e23-d12c-c2b55731e1cd"
      },
      "execution_count": null,
      "outputs": [
        {
          "output_type": "execute_result",
          "data": {
            "text/plain": [
              "[(7, 5), (9, 5), (11, 5), (13, 5), (15, 5), (6, 6)]"
            ]
          },
          "metadata": {},
          "execution_count": 68
        }
      ]
    },
    {
      "cell_type": "markdown",
      "source": [
        "**TUPLES**"
      ],
      "metadata": {
        "id": "GW3ZRYJKuT3R"
      }
    },
    {
      "cell_type": "code",
      "source": [
        "tuple_input=(2, 8, 3, 5, 1, 7, 4)\n",
        "print(len(tuple_input))"
      ],
      "metadata": {
        "colab": {
          "base_uri": "https://localhost:8080/"
        },
        "id": "zKTf9AHil-AV",
        "outputId": "4c5cf1f2-5787-48c8-9338-14b00e1cc0cc"
      },
      "execution_count": null,
      "outputs": [
        {
          "output_type": "stream",
          "name": "stdout",
          "text": [
            "7\n"
          ]
        }
      ]
    },
    {
      "cell_type": "code",
      "source": [
        "def max_min(tuple_input):\n",
        "  if len(tuple_input)==0:\n",
        "    return None,None\n",
        "\n",
        "  max_element=min_element=tuple_input[0]\n",
        "  for element in tuple_input:\n",
        "    if element>max_element:\n",
        "      max_element=element\n",
        "    elif element<min_element:\n",
        "      min_element=element\n",
        "  return max_element,min_element\n",
        "\n",
        "tuple_input=(2, 8, 3, 5, 1, 7, 4)\n",
        "max_min(tuple_input)"
      ],
      "metadata": {
        "colab": {
          "base_uri": "https://localhost:8080/"
        },
        "id": "0AOHZxOMlxic",
        "outputId": "45957243-ca2c-428b-b045-36340a3b9a63"
      },
      "execution_count": null,
      "outputs": [
        {
          "output_type": "execute_result",
          "data": {
            "text/plain": [
              "(8, 1)"
            ]
          },
          "metadata": {},
          "execution_count": 2
        }
      ]
    },
    {
      "cell_type": "code",
      "source": [
        "def max_min(list_input):\n",
        "  if len(list_input)==0:\n",
        "    return None,None\n",
        "\n",
        "  max_element=min_element=list_input[0]\n",
        "  for element in list_input:\n",
        "    if element>max_element:\n",
        "      max_element=element\n",
        "    elif element<min_element:\n",
        "      min_element=element\n",
        "  return max_element,min_element\n",
        "\n",
        "list_input=[2, 8, 3, 5, 1, 7, 4]\n",
        "max_min(list_input)"
      ],
      "metadata": {
        "colab": {
          "base_uri": "https://localhost:8080/"
        },
        "id": "TSwYqBl2oh-K",
        "outputId": "a099edd6-cc24-4f49-f630-95c325c7f6a3"
      },
      "execution_count": null,
      "outputs": [
        {
          "output_type": "execute_result",
          "data": {
            "text/plain": [
              "(8, 1)"
            ]
          },
          "metadata": {},
          "execution_count": 4
        }
      ]
    },
    {
      "cell_type": "code",
      "source": [
        "#Create a function that returns the unique elements from a tuple.\n",
        "def remove_duplicates(tuple_input):\n",
        "  char_cnt={}\n",
        "  for i in range(len(tuple_input)):\n",
        "    if tuple_input[i] in char_cnt:\n",
        "      char_cnt[tuple_input[i]]+=1\n",
        "    else:\n",
        "      char_cnt[tuple_input[i]]=1\n",
        "  return tuple(char_cnt.keys())\n",
        "\n",
        "tuple_input=eval(input())\n",
        "remove_duplicates(tuple_input)"
      ],
      "metadata": {
        "colab": {
          "base_uri": "https://localhost:8080/"
        },
        "id": "1YHU6awfpdZ7",
        "outputId": "38968172-31da-4edc-d50d-4a241886ef54"
      },
      "execution_count": null,
      "outputs": [
        {
          "name": "stdout",
          "output_type": "stream",
          "text": [
            "(1,2,2,3,4,4,5,5)\n"
          ]
        },
        {
          "output_type": "execute_result",
          "data": {
            "text/plain": [
              "(1, 2, 3, 4, 5)"
            ]
          },
          "metadata": {},
          "execution_count": 6
        }
      ]
    },
    {
      "cell_type": "code",
      "source": [
        "#Create a function that returns the unique elements from a tuple.\n",
        "def remove_duplicates(tuple_input):\n",
        "  return tuple(set(tuple_input))\n",
        "\n",
        "tuple_input=eval(input())\n",
        "remove_duplicates(tuple_input)"
      ],
      "metadata": {
        "colab": {
          "base_uri": "https://localhost:8080/"
        },
        "id": "pjU-r8QWq6b-",
        "outputId": "c38afb11-6525-4c01-b80b-fabe4f05afb4"
      },
      "execution_count": null,
      "outputs": [
        {
          "name": "stdout",
          "output_type": "stream",
          "text": [
            "(1,2,2,3,4,4,5,5)\n"
          ]
        },
        {
          "output_type": "execute_result",
          "data": {
            "text/plain": [
              "(1, 2, 3, 4, 5)"
            ]
          },
          "metadata": {},
          "execution_count": 7
        }
      ]
    },
    {
      "cell_type": "code",
      "source": [
        "#Write a program to concatenate two tuples.\n",
        "def combine_tuples(tuple1,tuple2):\n",
        "  return tuple1+tuple2\n",
        "\n",
        "tuple1=(1,2,2,3,4,4,5,5)\n",
        "tuple2=(1, 2, 3, 4, 5)\n",
        "combine_tuples(tuple1,tuple2)"
      ],
      "metadata": {
        "colab": {
          "base_uri": "https://localhost:8080/"
        },
        "id": "PP2qjz0wO6uY",
        "outputId": "1ae0536c-3afb-4d54-c9ab-3f6460db5517"
      },
      "execution_count": null,
      "outputs": [
        {
          "output_type": "execute_result",
          "data": {
            "text/plain": [
              "(1, 2, 2, 3, 4, 4, 5, 5, 1, 2, 3, 4, 5)"
            ]
          },
          "metadata": {},
          "execution_count": 8
        }
      ]
    },
    {
      "cell_type": "code",
      "source": [
        "def sum_tuple(tuple_input):\n",
        "  string=\"\".join(str(i) for i in tuple_input)\n",
        "  if string.isnumeric():\n",
        "    sum=0\n",
        "    for i in tuple_input:\n",
        "      sum+=i\n",
        "    return sum\n",
        "  else:\n",
        "    return \"Error: Non-numeric tuple\"\n",
        "\n",
        "tuple_input1=(1,2,'a',3,4,4,5,5)\n",
        "tuple_input=(1,2,3,4,4,5,5)\n",
        "sum_tuple(tuple_input1)"
      ],
      "metadata": {
        "colab": {
          "base_uri": "https://localhost:8080/",
          "height": 36
        },
        "id": "9P_6pFIVUdDe",
        "outputId": "e7a58c19-ddd0-4c10-cd46-68173e9fd274"
      },
      "execution_count": null,
      "outputs": [
        {
          "output_type": "execute_result",
          "data": {
            "text/plain": [
              "'Error: Non-numeric tuple'"
            ],
            "application/vnd.google.colaboratory.intrinsic+json": {
              "type": "string"
            }
          },
          "metadata": {},
          "execution_count": 15
        }
      ]
    },
    {
      "cell_type": "code",
      "source": [
        "sum_tuple(tuple_input)"
      ],
      "metadata": {
        "colab": {
          "base_uri": "https://localhost:8080/"
        },
        "id": "vnqQ2S3xWb-M",
        "outputId": "7d64a24f-63d0-4786-d217-4e1b7582342d"
      },
      "execution_count": null,
      "outputs": [
        {
          "output_type": "execute_result",
          "data": {
            "text/plain": [
              "24"
            ]
          },
          "metadata": {},
          "execution_count": 16
        }
      ]
    },
    {
      "cell_type": "code",
      "source": [
        "#Implement a program to unzip a list of tuples.\n",
        "def unzip_list_of_tuples(list_of_tuples):\n",
        "    # Use the zip function with * operator to unzip the list of tuples\n",
        "    unzipped = zip(*list_of_tuples)\n",
        "\n",
        "    # Convert the unzipped result into separate lists\n",
        "    result_lists = [list(element) for element in unzipped]\n",
        "\n",
        "    return result_lists\n",
        "\n",
        "# Example usage:\n",
        "list_of_tuples = [(1, 'one'), (2, 'two'), (3, 'three')]\n",
        "unzipped_result = unzip_list_of_tuples(list_of_tuples)\n",
        "\n",
        "print(\"List of Tuples:\", list_of_tuples)\n",
        "print(\"Unzipped Result:\", unzipped_result)\n"
      ],
      "metadata": {
        "colab": {
          "base_uri": "https://localhost:8080/"
        },
        "id": "x9fi4IIOXX7e",
        "outputId": "57f0ec51-bf04-491f-81dd-7402322f19b0"
      },
      "execution_count": null,
      "outputs": [
        {
          "output_type": "stream",
          "name": "stdout",
          "text": [
            "List of Tuples: [(1, 'one'), (2, 'two'), (3, 'three')]\n",
            "Unzipped Result: [[1, 2, 3], ['one', 'two', 'three']]\n"
          ]
        }
      ]
    },
    {
      "cell_type": "code",
      "source": [
        "#Write a function to convert a list of tuples into a dictionary.\n",
        "def list_of_tuples_to_dict(list_of_tuples):\n",
        "    result_dict = dict(list_of_tuples)\n",
        "    return result_dict\n",
        "\n",
        "# Example usage:\n",
        "list_of_tuples = [(1, 'one'), (2, 'two'), (3, 'three')]\n",
        "result = list_of_tuples_to_dict(list_of_tuples)\n",
        "\n",
        "print(\"List of Tuples:\", list_of_tuples)\n",
        "print(\"Resulting Dictionary:\", result)\n"
      ],
      "metadata": {
        "colab": {
          "base_uri": "https://localhost:8080/"
        },
        "id": "_7lAUswNXm8B",
        "outputId": "61fd3503-8d78-4fbc-a223-4e03cb04ab98"
      },
      "execution_count": null,
      "outputs": [
        {
          "output_type": "stream",
          "name": "stdout",
          "text": [
            "List of Tuples: [(1, 'one'), (2, 'two'), (3, 'three')]\n",
            "Resulting Dictionary: {1: 'one', 2: 'two', 3: 'three'}\n"
          ]
        }
      ]
    },
    {
      "cell_type": "code",
      "source": [
        "#Write a function to convert a tuple of tuples into a dictionary.\n",
        "def tuple_of_tuples_to_dict(tuple_of_tuples):\n",
        "    result_dict = dict(tuple_of_tuples)\n",
        "    return result_dict\n",
        "\n",
        "# Example usage:\n",
        "tuple_of_tuples = [(1, 'one'), (2, 'two'), (3, 'three')]\n",
        "result = tuple_of_tuples_to_dict(tuple_of_tuples)\n",
        "\n",
        "print(\"tuple_of_tuples:\", tuple_of_tuples)\n",
        "print(\"Resulting Dictionary:\", result)\n"
      ],
      "metadata": {
        "colab": {
          "base_uri": "https://localhost:8080/"
        },
        "id": "WK6DeRTiY1pe",
        "outputId": "5515b562-c654-459a-da6d-3795eac49c98"
      },
      "execution_count": null,
      "outputs": [
        {
          "output_type": "stream",
          "name": "stdout",
          "text": [
            "tuple_of_tuples: [(1, 'one'), (2, 'two'), (3, 'three')]\n",
            "Resulting Dictionary: {1: 'one', 2: 'two', 3: 'three'}\n"
          ]
        }
      ]
    },
    {
      "cell_type": "markdown",
      "source": [
        "**String**\n",
        "\n",
        "**Explain the difference between the find() and index() methods for strings.**\n",
        "\n",
        "The find() and index() methods in Python are both used to find the index of a substring within a string, but they differ in how they handle situations when the substring is not found.\n",
        "\n",
        "**find() Method:**\n",
        "\n",
        "Syntax: str.find(sub[, start[, end]])\n",
        "1.  The find() method searches for the specified substring (sub) in the given string (str).\n",
        "2. If the substring is found, it returns the lowest index of the first occurrence of the substring.\n",
        "3. **If the substring is not found, it returns -1.**\n",
        "4. It can also take optional start and end arguments to specify the search range.\n",
        "\n",
        "\n",
        "\n"
      ],
      "metadata": {
        "id": "KMjtOk3Bdce9"
      }
    },
    {
      "cell_type": "code",
      "source": [
        "sentence = \"Hello, World!\"\n",
        "index = sentence.find(\"World\")\n",
        "index2 = sentence.find(\"How\")\n",
        "print(index)\n",
        "print(index2)\n"
      ],
      "metadata": {
        "colab": {
          "base_uri": "https://localhost:8080/"
        },
        "id": "aAbEacLndvvi",
        "outputId": "389fe406-c641-45f9-a2b6-e9787a3850c6"
      },
      "execution_count": null,
      "outputs": [
        {
          "output_type": "stream",
          "name": "stdout",
          "text": [
            "7\n",
            "-1\n"
          ]
        }
      ]
    },
    {
      "cell_type": "markdown",
      "source": [
        "**index() Method:**\n",
        "\n",
        "Syntax: str.index(sub[, start[, end]])\n",
        "The index() method is similar to find() in that it searches for the specified substring.\n",
        "\n",
        "If the substring is found, it returns the lowest index of the first occurrence of the substring.\n",
        "\n",
        "If the substring is not found, it raises a ValueError.\n",
        "\n",
        "Like find(), it can take optional start and end arguments.\n",
        "\n",
        "1.   The index() method is similar to find() in that it searches for the specified substring.\n",
        "2.   If the substring is found, it returns the lowest index of the first occurrence of the substring.\n",
        "3.  **If the substring is not found, it raises a ValueError.**\n",
        "4.   Like find(), it can take optional start and end arguments.\n",
        "\n",
        "\n",
        "\n",
        "\n",
        "\n"
      ],
      "metadata": {
        "id": "P0lSO0Gjej0q"
      }
    },
    {
      "cell_type": "code",
      "source": [
        "sentence = \"Hello, World!\"\n",
        "index = sentence.index(\"World\")\n",
        "print(index)\n"
      ],
      "metadata": {
        "colab": {
          "base_uri": "https://localhost:8080/"
        },
        "id": "0mIarKKtfCoU",
        "outputId": "fcb4747d-12cc-4bf4-9661-a3cf8ca6c7b0"
      },
      "execution_count": null,
      "outputs": [
        {
          "output_type": "stream",
          "name": "stdout",
          "text": [
            "7\n"
          ]
        }
      ]
    },
    {
      "cell_type": "code",
      "source": [
        "sentence = \"Hello, World!\"\n",
        "index2 = sentence.index(\"How\")\n",
        "print(index2)"
      ],
      "metadata": {
        "colab": {
          "base_uri": "https://localhost:8080/",
          "height": 215
        },
        "id": "Cdz72ZVwfOUD",
        "outputId": "3025f533-3ef9-459e-be48-01b097ef1a85"
      },
      "execution_count": null,
      "outputs": [
        {
          "output_type": "error",
          "ename": "ValueError",
          "evalue": "ignored",
          "traceback": [
            "\u001b[0;31m---------------------------------------------------------------------------\u001b[0m",
            "\u001b[0;31mValueError\u001b[0m                                Traceback (most recent call last)",
            "\u001b[0;32m<ipython-input-41-3ae0cfe8ad49>\u001b[0m in \u001b[0;36m<cell line: 2>\u001b[0;34m()\u001b[0m\n\u001b[1;32m      1\u001b[0m \u001b[0msentence\u001b[0m \u001b[0;34m=\u001b[0m \u001b[0;34m\"Hello, World!\"\u001b[0m\u001b[0;34m\u001b[0m\u001b[0;34m\u001b[0m\u001b[0m\n\u001b[0;32m----> 2\u001b[0;31m \u001b[0mindex2\u001b[0m \u001b[0;34m=\u001b[0m \u001b[0msentence\u001b[0m\u001b[0;34m.\u001b[0m\u001b[0mindex\u001b[0m\u001b[0;34m(\u001b[0m\u001b[0;34m\"How\"\u001b[0m\u001b[0;34m)\u001b[0m\u001b[0;34m\u001b[0m\u001b[0;34m\u001b[0m\u001b[0m\n\u001b[0m\u001b[1;32m      3\u001b[0m \u001b[0mprint\u001b[0m\u001b[0;34m(\u001b[0m\u001b[0mindex2\u001b[0m\u001b[0;34m)\u001b[0m\u001b[0;34m\u001b[0m\u001b[0;34m\u001b[0m\u001b[0m\n",
            "\u001b[0;31mValueError\u001b[0m: substring not found"
          ]
        }
      ]
    },
    {
      "cell_type": "code",
      "source": [
        "my_list = [1, 2, 3, 4]\n",
        "\n",
        "# Using insert() to add the value 5 at index 2\n",
        "my_list.insert(7, [2,5])\n",
        "\n",
        "print(\"Updated List:\", my_list)\n"
      ],
      "metadata": {
        "colab": {
          "base_uri": "https://localhost:8080/"
        },
        "id": "CIY-UBAVlSwQ",
        "outputId": "b3111a1e-0c32-462e-87e6-1dce36bb7720"
      },
      "execution_count": null,
      "outputs": [
        {
          "output_type": "stream",
          "name": "stdout",
          "text": [
            "Updated List: [1, 2, 3, 4, [2, 5]]\n"
          ]
        }
      ]
    },
    {
      "cell_type": "markdown",
      "source": [
        "Difference between **insert,append,extend** methods\n",
        "\n",
        "**insert**\n",
        "\n",
        "It takes two arguments\n",
        "first should be an integer which is treated as index where the second argument which treated as single element will be inserted.\n",
        "\n",
        "**IMP**\n",
        "if index is out of range the the element is added at last of the list.\n",
        "**second argument is treated as single element even if we provide as list,tuple or string and is added as one element**\n",
        "**It updates the original list without giving any output**\n",
        "eg:\n",
        "\n"
      ],
      "metadata": {
        "id": "m9F7UI0v9KQ4"
      }
    },
    {
      "cell_type": "code",
      "source": [
        "l1=[1,1,2,3]\n",
        "l1.insert(1,4)\n",
        "print(l1)\n",
        "\n",
        "l2=[1,6,8,\"a\"]\n",
        "l2.insert(2,[2,5])\n",
        "print(l2)\n",
        "\n",
        "l3=[1,6,8,\"a\"]\n",
        "l3.insert(2,(2,5))\n",
        "print(l3)\n",
        "\n",
        "l4=[1,6,8,\"a\"]\n",
        "l4.insert(2,\"aniket\")\n",
        "print(l4)\n",
        "\n",
        "l5=[1,6,8,\"a\"]\n",
        "l5.insert(5,8)#index out of index-range\n",
        "print(l5)"
      ],
      "metadata": {
        "colab": {
          "base_uri": "https://localhost:8080/"
        },
        "id": "YNlAfhH0-xwu",
        "outputId": "f9f46600-e31f-4a8b-a8ee-74fb9c408b47"
      },
      "execution_count": null,
      "outputs": [
        {
          "output_type": "stream",
          "name": "stdout",
          "text": [
            "[1, 4, 1, 2, 3]\n",
            "[1, 6, [2, 5], 8, 'a']\n",
            "[1, 6, (2, 5), 8, 'a']\n",
            "[1, 6, 'aniket', 8, 'a']\n",
            "[1, 6, 8, 'a', 8]\n"
          ]
        }
      ]
    },
    {
      "cell_type": "markdown",
      "source": [
        "**Append**\n",
        "\n",
        "It takes only one argument and adds it at the last of the list which is treated as only one single element\n",
        "\n",
        "It updates the original list and do not give any output"
      ],
      "metadata": {
        "id": "bJ1-c7V5BYK-"
      }
    },
    {
      "cell_type": "code",
      "source": [
        "l1=[1,1,2,3]\n",
        "l1.append(4)\n",
        "print(l1)\n",
        "\n",
        "l2=[1,6,8,\"a\"]\n",
        "l2.append([2,5])\n",
        "print(l2)\n",
        "\n",
        "l3=[1,6,8,\"a\"]\n",
        "l3.append((2,5))\n",
        "print(l3)\n",
        "\n",
        "l4=[1,6,8,\"a\"]\n",
        "l4.append(\"aniket\")\n",
        "l4"
      ],
      "metadata": {
        "colab": {
          "base_uri": "https://localhost:8080/"
        },
        "id": "xGaMP0msC69P",
        "outputId": "f391139a-b293-4b5c-edb7-1d5fd168d35d"
      },
      "execution_count": null,
      "outputs": [
        {
          "output_type": "stream",
          "name": "stdout",
          "text": [
            "[1, 1, 2, 3, 4]\n",
            "[1, 6, 8, 'a', [2, 5]]\n",
            "[1, 6, 8, 'a', (2, 5)]\n"
          ]
        },
        {
          "output_type": "execute_result",
          "data": {
            "text/plain": [
              "[1, 6, 8, 'a', 'aniket']"
            ]
          },
          "metadata": {},
          "execution_count": 13
        }
      ]
    },
    {
      "cell_type": "markdown",
      "source": [
        "**Extend**\n",
        "\n",
        "It is used to add more than one element at the end of the list.\n",
        "\n",
        "It takes argument as a list,tuple,string,set which extracts the values from these groups and adds in the end as individual elements\n",
        "\n",
        "It updates the original list and do not give any output\n",
        "\n",
        "**IMP - It does not take single integer as an argument**"
      ],
      "metadata": {
        "id": "CLaycH1xDiGn"
      }
    },
    {
      "cell_type": "code",
      "source": [
        "l1=[1,1,2,3]\n",
        "l1.extend([4])\n",
        "print(l1)\n",
        "\n",
        "l2=[1,6,8,\"a\"]\n",
        "l2.extend([2,5])\n",
        "print(l2)\n",
        "\n",
        "l3=[1,6,8,\"a\"]\n",
        "l3.extend((2,5))\n",
        "print(l3)\n",
        "\n",
        "l4=[1,6,8,\"a\"]\n",
        "l4.extend(\"aniket\")\n",
        "l4"
      ],
      "metadata": {
        "colab": {
          "base_uri": "https://localhost:8080/"
        },
        "id": "UPnPo0gTEAhY",
        "outputId": "23d7e081-96c7-4080-c5a5-1bae25fac8f4"
      },
      "execution_count": null,
      "outputs": [
        {
          "output_type": "stream",
          "name": "stdout",
          "text": [
            "[1, 1, 2, 3, 4]\n",
            "[1, 6, 8, 'a', 2, 5]\n",
            "[1, 6, 8, 'a', 2, 5]\n"
          ]
        },
        {
          "output_type": "execute_result",
          "data": {
            "text/plain": [
              "[1, 6, 8, 'a', 'a', 'n', 'i', 'k', 'e', 't']"
            ]
          },
          "metadata": {},
          "execution_count": 19
        }
      ]
    },
    {
      "cell_type": "markdown",
      "source": [
        "**Difference between sorted() and sort()**\n",
        "\n",
        "**Key Differences:**\n",
        "\n",
        "sorted() returns a new sorted list, leaving the original iterable unchanged.\n",
        "\n",
        "sort() sorts the elements of the list in place, modifying the original list.\n",
        "\n",
        "If maintaining the original order is important, use sorted().\n",
        "\n",
        "If you want to modify the existing list directly, use sort().\n",
        "\n",
        "**Syntax: sorted(iterable, key=None, reverse=False)**\n",
        "\n",
        "**Syntax: list.sort(key=None, reverse=False)**"
      ],
      "metadata": {
        "id": "Iy6WZrrvE49T"
      }
    },
    {
      "cell_type": "code",
      "source": [
        "tuple1=42, #single element tuple can be writtten as this\n",
        "type(tuple1)"
      ],
      "metadata": {
        "colab": {
          "base_uri": "https://localhost:8080/"
        },
        "id": "SyEu-9e0GIiu",
        "outputId": "ee91bb61-260e-4ca5-c5ba-ce6847548dd6"
      },
      "execution_count": null,
      "outputs": [
        {
          "output_type": "execute_result",
          "data": {
            "text/plain": [
              "tuple"
            ]
          },
          "metadata": {},
          "execution_count": 21
        }
      ]
    },
    {
      "cell_type": "code",
      "source": [
        "tuple2=42,3\n",
        "type(tuple2)"
      ],
      "metadata": {
        "colab": {
          "base_uri": "https://localhost:8080/"
        },
        "id": "Jd682tmFGWcs",
        "outputId": "290760d2-40cb-45e9-a281-9704809191a9"
      },
      "execution_count": null,
      "outputs": [
        {
          "output_type": "execute_result",
          "data": {
            "text/plain": [
              "tuple"
            ]
          },
          "metadata": {},
          "execution_count": 25
        }
      ]
    },
    {
      "cell_type": "code",
      "source": [
        "def check_even(lst):\n",
        "  ans=[]\n",
        "  for i in lst:\n",
        "    if i >= 2:\n",
        "      for j in range(2,i+1):\n",
        "        if i%j!=0:\n",
        "            ans.append(i)\n",
        "\n",
        "  return list(set(ans))\n",
        "\n",
        "lst=[9,8,7,6,5,4,3,2,1,0]\n",
        "check_even(lst)"
      ],
      "metadata": {
        "colab": {
          "base_uri": "https://localhost:8080/"
        },
        "id": "r307eN4vKxv0",
        "outputId": "7da40312-3c30-4247-e8a6-520c2de8be92"
      },
      "execution_count": null,
      "outputs": [
        {
          "output_type": "execute_result",
          "data": {
            "text/plain": [
              "[3, 4, 5, 6, 7, 8, 9]"
            ]
          },
          "metadata": {},
          "execution_count": 18
        }
      ]
    },
    {
      "cell_type": "code",
      "source": [
        "# Python program to display all the prime numbers within an interval\n",
        "lst=[9,8,7,6,5,4,3,2,1]\n",
        "ans=[]\n",
        "for num in lst:\n",
        "   # all prime numbers are greater than 1\n",
        "   if num > 1:\n",
        "       for i in range(2, num):\n",
        "           if (num % i) == 0:\n",
        "               break\n",
        "       else:\n",
        "           ans.append(num)\n",
        "\n",
        "ans"
      ],
      "metadata": {
        "colab": {
          "base_uri": "https://localhost:8080/"
        },
        "id": "KB1wpaS5SiYV",
        "outputId": "c5c1c88b-1cd7-4a44-bd5e-5ad19012568a"
      },
      "execution_count": null,
      "outputs": [
        {
          "output_type": "execute_result",
          "data": {
            "text/plain": [
              "[7, 5, 3, 2]"
            ]
          },
          "metadata": {},
          "execution_count": 25
        }
      ]
    },
    {
      "cell_type": "code",
      "source": [
        "def check_prime(lst):\n",
        "  ans=[]\n",
        "  for num in lst:\n",
        "    if num > 1:\n",
        "      for i in range(2,num):\n",
        "        if num%i==0:\n",
        "          break\n",
        "      else:\n",
        "        ans.append(num)\n",
        "\n",
        "  return ans\n",
        "\n",
        "lst=[9,8,7,6,5,4,3,2,1]\n",
        "check_prime(lst)"
      ],
      "metadata": {
        "colab": {
          "base_uri": "https://localhost:8080/"
        },
        "id": "mTS8_zqmThEq",
        "outputId": "fe8bbb22-ae3f-4715-a060-6540423b6467"
      },
      "execution_count": null,
      "outputs": [
        {
          "output_type": "execute_result",
          "data": {
            "text/plain": [
              "[7, 5, 3, 2]"
            ]
          },
          "metadata": {},
          "execution_count": 30
        }
      ]
    },
    {
      "cell_type": "code",
      "source": [
        "def check_prime(start,end):\n",
        "  ans=[]\n",
        "  for num in range(start,end+1):\n",
        "    if num > 1:\n",
        "      for i in range(2,num):\n",
        "        if num%i==0:\n",
        "          break\n",
        "      else:\n",
        "        ans.append(num)\n",
        "\n",
        "  return ans\n",
        "\n",
        "start,end=1,20\n",
        "check_prime(start,end)"
      ],
      "metadata": {
        "colab": {
          "base_uri": "https://localhost:8080/"
        },
        "id": "zO7CZZhKloL1",
        "outputId": "c8216e1a-db16-4af9-a503-e0300b56ebc9"
      },
      "execution_count": null,
      "outputs": [
        {
          "output_type": "execute_result",
          "data": {
            "text/plain": [
              "[2, 3, 5, 7, 11, 13, 17, 19]"
            ]
          },
          "metadata": {},
          "execution_count": 33
        }
      ]
    },
    {
      "cell_type": "code",
      "source": [
        "def rev_words(sentence):\n",
        "  return \" \".join(word[::-1] for word in sentence.split())\n",
        "\n",
        "sentence='Hello World'\n",
        "rev_words(sentence)"
      ],
      "metadata": {
        "colab": {
          "base_uri": "https://localhost:8080/",
          "height": 36
        },
        "id": "n3criNLZmO7_",
        "outputId": "5bc59f3f-5f31-4ba9-a474-b5cc576f1820"
      },
      "execution_count": null,
      "outputs": [
        {
          "output_type": "execute_result",
          "data": {
            "text/plain": [
              "'olleH dlroW'"
            ],
            "application/vnd.google.colaboratory.intrinsic+json": {
              "type": "string"
            }
          },
          "metadata": {},
          "execution_count": 43
        }
      ]
    },
    {
      "cell_type": "code",
      "source": [
        "def check_palindrome(input_list):\n",
        "  ans=[]\n",
        "  for word in input_list:\n",
        "    if word==word[::-1]:\n",
        "      ans.append(word)\n",
        "\n",
        "  return list(set(ans))\n",
        "\n",
        "input_list = ['radar', 'level', 'python', 'madam', 'hello', 'racecar', 'civic']\n",
        "check_palindrome(input_list)\n"
      ],
      "metadata": {
        "colab": {
          "base_uri": "https://localhost:8080/"
        },
        "id": "iztUbD-pnHgR",
        "outputId": "c7840360-bedd-4588-ce8c-f01f5e760b2e"
      },
      "execution_count": null,
      "outputs": [
        {
          "output_type": "execute_result",
          "data": {
            "text/plain": [
              "['racecar', 'civic', 'madam', 'radar', 'level']"
            ]
          },
          "metadata": {},
          "execution_count": 42
        }
      ]
    },
    {
      "cell_type": "code",
      "source": [
        "def perfect_square(numbers):\n",
        "  ans=[]\n",
        "  for i in numbers:\n",
        "    if (int(i)**0.5)**2==i:\n",
        "      ans.append(i)\n",
        "\n",
        "  return ans\n",
        "\n",
        "numbers = [4, 9, 16, 25, 7, 12, 1, 0]\n",
        "perfect_square(numbers)"
      ],
      "metadata": {
        "colab": {
          "base_uri": "https://localhost:8080/"
        },
        "id": "eAkzVWNso3Xg",
        "outputId": "0b5a81a7-0683-4154-80cd-f1318e80846e"
      },
      "execution_count": null,
      "outputs": [
        {
          "output_type": "execute_result",
          "data": {
            "text/plain": [
              "[4, 9, 16, 25, 1, 0]"
            ]
          },
          "metadata": {},
          "execution_count": 46
        }
      ]
    },
    {
      "cell_type": "code",
      "source": [
        "def common_list(list1,list2):\n",
        "  ans=set(list1).intersection(set(list2))\n",
        "\n",
        "  return list(ans)\n",
        "\n",
        "list1 = [1, 2, 3, 4, 5, 6]\n",
        "list2 = [4, 5, 6, 7, 8, 9]\n",
        "common_list(list1,list2)"
      ],
      "metadata": {
        "colab": {
          "base_uri": "https://localhost:8080/"
        },
        "id": "Uc6JZJPMr-jZ",
        "outputId": "bc6f7910-f131-421a-b2b2-1d3bdbd997ca"
      },
      "execution_count": null,
      "outputs": [
        {
          "output_type": "execute_result",
          "data": {
            "text/plain": [
              "[4, 5, 6]"
            ]
          },
          "metadata": {},
          "execution_count": 47
        }
      ]
    },
    {
      "cell_type": "code",
      "source": [
        "def count_vowel(string):\n",
        "  vowels='aeiou'\n",
        "  vowels_cnt={}\n",
        "  for i in vowels:\n",
        "      vowels_cnt[i]=string.lower().count(i)\n",
        "\n",
        "  return vowels_cnt\n",
        "\n",
        "string = \"Python is an amazing programming language\"\n",
        "count_vowel(string)\n"
      ],
      "metadata": {
        "colab": {
          "base_uri": "https://localhost:8080/"
        },
        "id": "GX_aKjqIs3Ic",
        "outputId": "c9e981b6-cda8-4685-8b51-231edbaca077"
      },
      "execution_count": null,
      "outputs": [
        {
          "output_type": "execute_result",
          "data": {
            "text/plain": [
              "{'a': 6, 'e': 1, 'i': 3, 'o': 2, 'u': 1}"
            ]
          },
          "metadata": {},
          "execution_count": 54
        }
      ]
    },
    {
      "cell_type": "code",
      "source": [
        "def new_dic(lst):\n",
        "  new_list=[word.lower() for word in lst]\n",
        "  unique_list=list(set(new_list))\n",
        "  dicts={}\n",
        "  for word in unique_list:\n",
        "    dicts[word]=len(word)\n",
        "\n",
        "  return dicts\n",
        "\n",
        "lst = ['apple', 'banana', 'kiwi', 'orange', 'grape','Grape']\n",
        "new_dic(lst)"
      ],
      "metadata": {
        "colab": {
          "base_uri": "https://localhost:8080/"
        },
        "id": "gwg2DUA70KGd",
        "outputId": "dd869660-f770-4e6c-8549-80bd501ee87e"
      },
      "execution_count": null,
      "outputs": [
        {
          "output_type": "execute_result",
          "data": {
            "text/plain": [
              "{'apple': 5, 'orange': 6, 'banana': 6, 'kiwi': 4, 'grape': 5}"
            ]
          },
          "metadata": {},
          "execution_count": 59
        }
      ]
    },
    {
      "cell_type": "code",
      "source": [
        "def count_vowels(lst):\n",
        "  vowels='aeiou'\n",
        "  ans=[]\n",
        "  for word in lst:\n",
        "    sum=0\n",
        "    for i in vowels:\n",
        "      sum=sum+word.lower().count(i)\n",
        "    if sum>3:\n",
        "      ans.append(word)\n",
        "  return ans\n",
        "\n",
        "lst = [\n",
        "    'hello',\n",
        "    'programming',\n",
        "    'python',\n",
        "    'data science',\n",
        "    'algorithm',\n",
        "    'ai',\n",
        "    'neural network'\n",
        "]\n",
        "\n",
        "count_vowels(lst)"
      ],
      "metadata": {
        "colab": {
          "base_uri": "https://localhost:8080/"
        },
        "id": "pfZPbkuU308i",
        "outputId": "04696c2b-ed0f-4555-e268-c069fb9e447b"
      },
      "execution_count": null,
      "outputs": [
        {
          "output_type": "execute_result",
          "data": {
            "text/plain": [
              "['data science', 'neural network']"
            ]
          },
          "metadata": {},
          "execution_count": 77
        }
      ]
    },
    {
      "cell_type": "code",
      "source": [
        "def cum_sum(numbers):\n",
        "  ans=[]\n",
        "  sum=0\n",
        "  for i in range(len(numbers)):\n",
        "    sum+=numbers[i]\n",
        "    ans.append(sum)\n",
        "  return ans\n",
        "\n",
        "numbers = [1, 2, 3, 4, 5, 6, 7, 8, 9]\n",
        "cum_sum(numbers)"
      ],
      "metadata": {
        "colab": {
          "base_uri": "https://localhost:8080/"
        },
        "id": "HAAC7XqsML-t",
        "outputId": "7882753d-6ed6-49a6-c5c1-a1cde8d2e9cc"
      },
      "execution_count": null,
      "outputs": [
        {
          "output_type": "execute_result",
          "data": {
            "text/plain": [
              "[1, 3, 6, 10, 15, 21, 28, 36, 45]"
            ]
          },
          "metadata": {},
          "execution_count": 87
        }
      ]
    },
    {
      "cell_type": "code",
      "source": [
        "def anagram(string_list):\n",
        "  anagram_group={}\n",
        "  for word in string_list:\n",
        "    sorted_word=\"\".join(sorted(word))\n",
        "    if sorted_word in anagram_group:\n",
        "      anagram_group[sorted_word].append(word)\n",
        "    else:\n",
        "      anagram_group[sorted_word]=[word]\n",
        "\n",
        "  return [tuple(group) for group in anagram_group.values() if len(group) > 1]\n",
        "\n",
        "string_list = ['listen', 'silent', 'python', 'hello', 'nap', 'pan', 'debit card', 'bad credit']\n",
        "anagram(string_list)"
      ],
      "metadata": {
        "colab": {
          "base_uri": "https://localhost:8080/"
        },
        "id": "ClfK5-vSWUL7",
        "outputId": "b52add1f-6060-4ccd-8526-7fbf7c03e4d5"
      },
      "execution_count": null,
      "outputs": [
        {
          "output_type": "execute_result",
          "data": {
            "text/plain": [
              "[('listen', 'silent'), ('nap', 'pan'), ('debit card', 'bad credit')]"
            ]
          },
          "metadata": {},
          "execution_count": 26
        }
      ]
    },
    {
      "cell_type": "code",
      "source": [
        "def check_prime(num_list):\n",
        "  prime_list=[]\n",
        "  for num in num_list:\n",
        "    if num > 1:\n",
        "      for i in range(2,num):\n",
        "        if num%i==0:\n",
        "          break\n",
        "      else:\n",
        "          prime_list.append(num)\n",
        "\n",
        "  return prime_list\n",
        "\n",
        "num_list = [2, 3, 5, 7, 11, 13, 17, 19, 23, 29, 31, 37, 41, 43, 47, 4, 8, 12, 15, 21]\n",
        "check_prime(num_list)"
      ],
      "metadata": {
        "colab": {
          "base_uri": "https://localhost:8080/"
        },
        "id": "DDISpVNiaFXz",
        "outputId": "5a6cb167-5452-4e0e-b407-063b36dde8bd"
      },
      "execution_count": null,
      "outputs": [
        {
          "output_type": "execute_result",
          "data": {
            "text/plain": [
              "[2, 3, 5, 7, 11, 13, 17, 19, 23, 29, 31, 37, 41, 43, 47]"
            ]
          },
          "metadata": {},
          "execution_count": 33
        }
      ]
    },
    {
      "cell_type": "code",
      "source": [
        "def check(string_list):\n",
        "  dic={}\n",
        "  for word in string_list:\n",
        "    length=len(word)\n",
        "    if length in dic:\n",
        "      dic[length].append(word)\n",
        "    else:\n",
        "      dic[length]=[word]\n",
        "\n",
        "  max_length=max(dic.keys())\n",
        "  return dic[max_length]\n",
        "\n",
        "string_list = ['apple', 'banana', 'kiwi', 'orange', 'grape', 'pineapple', 'watermelon', 'strawberry']\n",
        "check(string_list)"
      ],
      "metadata": {
        "colab": {
          "base_uri": "https://localhost:8080/"
        },
        "id": "kftWoXYvekka",
        "outputId": "23af40e1-ac37-4bd2-9b98-c9479e94d6b3"
      },
      "execution_count": null,
      "outputs": [
        {
          "output_type": "execute_result",
          "data": {
            "text/plain": [
              "['watermelon', 'strawberry']"
            ]
          },
          "metadata": {},
          "execution_count": 47
        }
      ]
    },
    {
      "cell_type": "code",
      "source": [
        "def find_max_length_strings(string_list):\n",
        "    max_length = max(len(word) for word in string_list)\n",
        "    result = [word for word in string_list if len(word) == max_length]\n",
        "    return result\n",
        "\n",
        "# Example usage:\n",
        "string_list = ['apple', 'banana', 'kiwi', 'orange', 'grape', 'pineapple', 'watermelon', 'strawberry']\n",
        "result = find_max_length_strings(string_list)\n",
        "print(result)\n"
      ],
      "metadata": {
        "colab": {
          "base_uri": "https://localhost:8080/"
        },
        "id": "RYUAyuYUhfAV",
        "outputId": "1f2df907-2c2f-4a1b-ee92-746a6c31ee16"
      },
      "execution_count": null,
      "outputs": [
        {
          "output_type": "stream",
          "name": "stdout",
          "text": [
            "['watermelon', 'strawberry']\n"
          ]
        }
      ]
    },
    {
      "cell_type": "code",
      "source": [
        "def unique_strings(string_list):\n",
        "  return list(set(string_list))\n",
        "\n",
        "string_list = ['apple', 'banana', 'kiwi', 'orange', 'grape', 'apple', 'kiwi', 'watermelon', 'banana']\n",
        "unique_strings(string_list)"
      ],
      "metadata": {
        "colab": {
          "base_uri": "https://localhost:8080/"
        },
        "id": "_F_aOoqVaNQ4",
        "outputId": "79150cf3-9b63-4dba-9020-c506e6dafab1"
      },
      "execution_count": null,
      "outputs": [
        {
          "output_type": "execute_result",
          "data": {
            "text/plain": [
              "['apple', 'banana', 'grape', 'watermelon', 'orange', 'kiwi']"
            ]
          },
          "metadata": {},
          "execution_count": 2
        }
      ]
    },
    {
      "cell_type": "code",
      "source": [
        "def pair_anagram(word_list):\n",
        "  ans={}\n",
        "  for word in word_list:\n",
        "    sorted_word=''.join(sorted(word))\n",
        "    if sorted_word in ans:\n",
        "      ans[sorted_word].append(word)\n",
        "    else:\n",
        "      ans[sorted_word]=[word]\n",
        "\n",
        "  return [tuple(value) for value in ans.values() if len(value)>1]\n",
        "\n",
        "word_list = ['listen', 'silent', 'python', 'hello', 'nap', 'pan', 'debit card', 'bad credit']\n",
        "pair_anagram(word_list)"
      ],
      "metadata": {
        "colab": {
          "base_uri": "https://localhost:8080/"
        },
        "id": "YDL2lK0sc-tV",
        "outputId": "1e5f0188-5cc8-48dc-b45f-1d873ead858b"
      },
      "execution_count": null,
      "outputs": [
        {
          "output_type": "execute_result",
          "data": {
            "text/plain": [
              "[('listen', 'silent'), ('nap', 'pan'), ('debit card', 'bad credit')]"
            ]
          },
          "metadata": {},
          "execution_count": 8
        }
      ]
    },
    {
      "cell_type": "code",
      "source": [
        "def find_anagram_pairs(words):\n",
        "    ans = {}\n",
        "    for word in words:\n",
        "        sorted_word = ''.join(sorted(word))\n",
        "        if sorted_word in ans:\n",
        "            ans[sorted_word].append(word)\n",
        "        else:\n",
        "            ans[sorted_word] = [word]\n",
        "\n",
        "    return [tuple(pair) for value in ans.values() for pair in combinations(value, 2) if len(value) > 1]\n",
        "\n",
        "# Import the combinations function from itertools\n",
        "from itertools import combinations\n",
        "\n",
        "# Example usage:\n",
        "word_list = ['listen', 'silent', 'python', 'hello', 'nap', 'pan', 'debit card', 'bad credit']\n",
        "result = find_anagram_pairs(word_list)\n",
        "print(result)\n"
      ],
      "metadata": {
        "colab": {
          "base_uri": "https://localhost:8080/"
        },
        "id": "0XvCHsRReDPa",
        "outputId": "9a595e3b-7593-4ed5-94c3-41cf2d4be7fc"
      },
      "execution_count": null,
      "outputs": [
        {
          "output_type": "stream",
          "name": "stdout",
          "text": [
            "[('listen', 'silent'), ('nap', 'pan'), ('debit card', 'bad credit')]\n"
          ]
        }
      ]
    },
    {
      "cell_type": "code",
      "source": [
        "fruits = {'apple', 'banana', 'orange'}\n",
        "fruits.remove('orange')  # Removes 'banana' from the set\n",
        "fruits.remove('banana')\n",
        "fruits\n"
      ],
      "metadata": {
        "colab": {
          "base_uri": "https://localhost:8080/"
        },
        "id": "L_ElgucFg8tJ",
        "outputId": "488112b5-6998-4c7b-fc91-4095a2992d66"
      },
      "execution_count": null,
      "outputs": [
        {
          "output_type": "execute_result",
          "data": {
            "text/plain": [
              "{'apple'}"
            ]
          },
          "metadata": {},
          "execution_count": 20
        }
      ]
    }
  ],
  "metadata": {
    "colab": {
      "provenance": [],
      "authorship_tag": "ABX9TyM2zSgFhyOEw0PyTL9SwY0e",
      "include_colab_link": true
    },
    "kernelspec": {
      "display_name": "Python 3",
      "name": "python3"
    },
    "language_info": {
      "name": "python"
    }
  },
  "nbformat": 4,
  "nbformat_minor": 0
}